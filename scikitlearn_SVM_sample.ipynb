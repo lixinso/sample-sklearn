{
  "nbformat": 4,
  "nbformat_minor": 0,
  "metadata": {
    "colab": {
      "name": "scikitlearn_SVM_sample.ipynb",
      "provenance": [],
      "authorship_tag": "ABX9TyO5EAfFwx87wi5qM6BvlMS3",
      "include_colab_link": true
    },
    "kernelspec": {
      "name": "python3",
      "display_name": "Python 3"
    }
  },
  "cells": [
    {
      "cell_type": "markdown",
      "metadata": {
        "id": "view-in-github",
        "colab_type": "text"
      },
      "source": [
        "<a href=\"https://colab.research.google.com/github/lixinso/sample-sklearn/blob/master/scikitlearn_SVM_sample.ipynb\" target=\"_parent\"><img src=\"https://colab.research.google.com/assets/colab-badge.svg\" alt=\"Open In Colab\"/></a>"
      ]
    },
    {
      "cell_type": "code",
      "metadata": {
        "id": "E_gWjoKh86Ci",
        "colab_type": "code",
        "colab": {
          "base_uri": "https://localhost:8080/",
          "height": 90
        },
        "outputId": "ca49e8e9-d45c-430f-aabc-47a34dc94431"
      },
      "source": [
        "## Classification\n",
        "\n",
        "from sklearn import svm\n",
        "X = [[0,0], [1,1]]\n",
        "y = [0,1]\n",
        "clf = svm.SVC()\n",
        "clf.fit(X,y)"
      ],
      "execution_count": 1,
      "outputs": [
        {
          "output_type": "execute_result",
          "data": {
            "text/plain": [
              "SVC(C=1.0, break_ties=False, cache_size=200, class_weight=None, coef0=0.0,\n",
              "    decision_function_shape='ovr', degree=3, gamma='scale', kernel='rbf',\n",
              "    max_iter=-1, probability=False, random_state=None, shrinking=True,\n",
              "    tol=0.001, verbose=False)"
            ]
          },
          "metadata": {
            "tags": []
          },
          "execution_count": 1
        }
      ]
    },
    {
      "cell_type": "code",
      "metadata": {
        "id": "1jy34FR9_lH2",
        "colab_type": "code",
        "colab": {
          "base_uri": "https://localhost:8080/",
          "height": 35
        },
        "outputId": "71585a3b-2282-4e96-ec51-34b439310eda"
      },
      "source": [
        "clf.predict([[2., 2.]])"
      ],
      "execution_count": 2,
      "outputs": [
        {
          "output_type": "execute_result",
          "data": {
            "text/plain": [
              "array([1])"
            ]
          },
          "metadata": {
            "tags": []
          },
          "execution_count": 2
        }
      ]
    },
    {
      "cell_type": "code",
      "metadata": {
        "id": "EMaM6ve0Bb5K",
        "colab_type": "code",
        "colab": {
          "base_uri": "https://localhost:8080/",
          "height": 35
        },
        "outputId": "ffa237e1-daed-41f9-8d50-fc1733cbaffe"
      },
      "source": [
        "# Regression\n",
        "\n",
        "from sklearn import svm\n",
        "X = [[0,0], [2,2]]\n",
        "y = [0.5, 2.5]\n",
        "clf = svm.SVR()\n",
        "clf.fit(X,y)\n",
        "clf.predict([[1,1]])\n"
      ],
      "execution_count": 3,
      "outputs": [
        {
          "output_type": "execute_result",
          "data": {
            "text/plain": [
              "array([1.5])"
            ]
          },
          "metadata": {
            "tags": []
          },
          "execution_count": 3
        }
      ]
    },
    {
      "cell_type": "code",
      "metadata": {
        "id": "UHzWJWBbCPoA",
        "colab_type": "code",
        "colab": {
          "base_uri": "https://localhost:8080/",
          "height": 35
        },
        "outputId": "54479fb2-e01b-4c4b-dd34-dc775b654f44"
      },
      "source": [
        "# Kernel functions\n",
        "linear_svc = svm.SVC(kernel='linear')\n",
        "linear_svc.kernel"
      ],
      "execution_count": 4,
      "outputs": [
        {
          "output_type": "execute_result",
          "data": {
            "text/plain": [
              "'linear'"
            ]
          },
          "metadata": {
            "tags": []
          },
          "execution_count": 4
        }
      ]
    },
    {
      "cell_type": "code",
      "metadata": {
        "id": "AVYZKYUMCZgb",
        "colab_type": "code",
        "colab": {
          "base_uri": "https://localhost:8080/",
          "height": 35
        },
        "outputId": "81721da7-4847-4d37-c7ca-56e870ff049f"
      },
      "source": [
        "rbf_svc = svm.SVC(kernel='rbf')\n",
        "rbf_svc.kernel"
      ],
      "execution_count": 5,
      "outputs": [
        {
          "output_type": "execute_result",
          "data": {
            "text/plain": [
              "'rbf'"
            ]
          },
          "metadata": {
            "tags": []
          },
          "execution_count": 5
        }
      ]
    },
    {
      "cell_type": "markdown",
      "metadata": {
        "id": "DdCSR7yJ_Wuc",
        "colab_type": "text"
      },
      "source": [
        "### References\n",
        "- https://scikit-learn.org/stable/modules/svm.html\n"
      ]
    }
  ]
}